{
 "cells": [
  {
   "cell_type": "code",
   "execution_count": 81,
   "metadata": {},
   "outputs": [],
   "source": [
    "import sympy as sym\n",
    "import numpy as np\n",
    "import matplotlib\n",
    "import matplotlib.pyplot as plt\n",
    "%matplotlib inline"
   ]
  },
  {
   "cell_type": "code",
   "execution_count": 3,
   "metadata": {},
   "outputs": [],
   "source": [
    "u, ut, k, nu, y, y0 = sym.symbols(\"u, u_t, k, nu, y, y_0\")"
   ]
  },
  {
   "cell_type": "code",
   "execution_count": 7,
   "metadata": {},
   "outputs": [],
   "source": [
    "eq = (ut/k)*sym.log(y/y0) - u"
   ]
  },
  {
   "cell_type": "code",
   "execution_count": 10,
   "metadata": {},
   "outputs": [],
   "source": [
    "eq = eq.subs(y0, nu/(9*ut)).simplify()"
   ]
  },
  {
   "cell_type": "code",
   "execution_count": 11,
   "metadata": {},
   "outputs": [
    {
     "data": {
      "text/latex": [
       "$\\displaystyle - u + \\frac{u_{t} \\log{\\left(\\frac{9 u_{t} y}{\\nu} \\right)}}{k}$"
      ],
      "text/plain": [
       "-u + u_t*log(9*u_t*y/nu)/k"
      ]
     },
     "execution_count": 11,
     "metadata": {},
     "output_type": "execute_result"
    }
   ],
   "source": [
    "eq"
   ]
  },
  {
   "cell_type": "code",
   "execution_count": 12,
   "metadata": {},
   "outputs": [],
   "source": [
    "ut_sol = sym.solve(eq, ut)[0]"
   ]
  },
  {
   "cell_type": "code",
   "execution_count": 13,
   "metadata": {},
   "outputs": [
    {
     "data": {
      "text/latex": [
       "$\\displaystyle \\frac{\\nu e^{W\\left(\\frac{9 k u y}{\\nu}\\right)}}{9 y}$"
      ],
      "text/plain": [
       "nu*exp(LambertW(9*k*u*y/nu))/(9*y)"
      ]
     },
     "execution_count": 13,
     "metadata": {},
     "output_type": "execute_result"
    }
   ],
   "source": [
    "ut_sol"
   ]
  },
  {
   "cell_type": "markdown",
   "metadata": {},
   "source": [
    "## Cubic Buffer Layer Interpolation Function"
   ]
  },
  {
   "cell_type": "code",
   "execution_count": 216,
   "metadata": {},
   "outputs": [],
   "source": [
    "y_1, y_2 = sym.symbols('y_1, y_2')\n",
    "A = sym.Matrix([[1, y_1, y_1**2, y_1**3], [0, 1, 2*y_1, 3*y_1**2], [1, y_2, y_2**2, y_2**3], [0, 1, 2*y_2, 3*y_2**2]])\n",
    "x = sym.MatrixSymbol('b', 1, 4)\n",
    "b = sym.Matrix([5, 1, (1/k)*sym.log(y_2) + 5.0, 1/(k*y_2)])"
   ]
  },
  {
   "cell_type": "code",
   "execution_count": 217,
   "metadata": {},
   "outputs": [],
   "source": [
    "x = A.LUsolve(b)"
   ]
  },
  {
   "cell_type": "code",
   "execution_count": 221,
   "metadata": {},
   "outputs": [],
   "source": [
    "x = x.subs(\n",
    "    {\n",
    "        y_1: 5.0,\n",
    "        y_2: 30.0,\n",
    "        k: 0.41,\n",
    "    }\n",
    ")"
   ]
  },
  {
   "cell_type": "code",
   "execution_count": 222,
   "metadata": {},
   "outputs": [
    {
     "data": {
      "text/latex": [
       "$\\displaystyle \\left[\\begin{matrix}-1.16935891730231\\\\1.48444966865754\\\\-0.0534567973867406\\\\0.000668244069464823\\end{matrix}\\right]$"
      ],
      "text/plain": [
       "Matrix([\n",
       "[   -1.16935891730231],\n",
       "[    1.48444966865754],\n",
       "[ -0.0534567973867406],\n",
       "[0.000668244069464823]])"
      ]
     },
     "execution_count": 222,
     "metadata": {},
     "output_type": "execute_result"
    }
   ],
   "source": [
    "x"
   ]
  },
  {
   "cell_type": "code",
   "execution_count": 223,
   "metadata": {},
   "outputs": [],
   "source": [
    "yp, a1, a2, a3, a4 = sym.symbols('yp a1 a2 a3 a4')"
   ]
  },
  {
   "cell_type": "code",
   "execution_count": null,
   "metadata": {},
   "outputs": [],
   "source": []
  },
  {
   "cell_type": "code",
   "execution_count": 224,
   "metadata": {},
   "outputs": [],
   "source": [
    "a1 = x[0, 0].simplify()\n",
    "a2 = x[1, 0].simplify()\n",
    "a3 = x[2, 0].simplify()\n",
    "a4 = x[3, 0].simplify()"
   ]
  },
  {
   "cell_type": "code",
   "execution_count": 229,
   "metadata": {},
   "outputs": [
    {
     "data": {
      "text/latex": [
       "$\\displaystyle 0.000668244069464823 yp^{3} - 0.0534567973867406 yp^{2} + 1.48444966865754 yp - 1.16935891730231$"
      ],
      "text/plain": [
       "0.000668244069464823*yp**3 - 0.0534567973867406*yp**2 + 1.48444966865754*yp - 1.16935891730231"
      ]
     },
     "execution_count": 229,
     "metadata": {},
     "output_type": "execute_result"
    }
   ],
   "source": [
    "u_b = a1 + a2*yp + a3*yp**2 + a4*yp**3\n",
    "u_b"
   ]
  },
  {
   "cell_type": "code",
   "execution_count": 277,
   "metadata": {},
   "outputs": [],
   "source": [
    "# Buffer Layer Interpolation Function\n",
    "# Quadratic Bezier\n",
    "yp1, yp2, C, t, U_inf, r = sym.symbols('yp1, yp2, C, t, U_inf, r')\n",
    "p0 = sym.Matrix([yp1, yp1])\n",
    "p2 = sym.Matrix([yp2, (1/k)*sym.log(yp2) + C])\n",
    "B = (1/k)*(sym.log(yp2) - 1) + C\n",
    "A = B/(1 - 1/(k*yp2))\n",
    "p1 = sym.Matrix([A, A])\n",
    "\n",
    "# Integration Constant\n",
    "# Viscous Layer Constant\n",
    "Cp = U_inf - (ut/k)*sym.log((r*ut)/nu)"
   ]
  },
  {
   "cell_type": "code",
   "execution_count": 278,
   "metadata": {},
   "outputs": [],
   "source": [
    "# Bezier Function\n",
    "Bz = (1-t)*((1-t)*p0 + t*p1) + t*((1-t)*p1 + t*p2)"
   ]
  },
  {
   "cell_type": "code",
   "execution_count": 279,
   "metadata": {},
   "outputs": [],
   "source": [
    "# Viscous Sublayer Function\n",
    "u_v = y*ut**2/nu"
   ]
  },
  {
   "cell_type": "code",
   "execution_count": 291,
   "metadata": {},
   "outputs": [
    {
     "data": {
      "text/latex": [
       "$\\displaystyle 5.0 + \\frac{\\log{\\left(y \\right)}}{k}$"
      ],
      "text/plain": [
       "5.0 + log(y)/k"
      ]
     },
     "execution_count": 291,
     "metadata": {},
     "output_type": "execute_result"
    }
   ],
   "source": [
    "# Log - Law Layer Function\n",
    "u_l = (1/k)*sym.log(y)+5.0\n",
    "u_l"
   ]
  },
  {
   "cell_type": "code",
   "execution_count": 292,
   "metadata": {},
   "outputs": [],
   "source": [
    "# Piecewise Turbulent Layer Function"
   ]
  },
  {
   "cell_type": "code",
   "execution_count": 310,
   "metadata": {},
   "outputs": [],
   "source": [
    "# Layer Function\n",
    "def turb_bl(d, v_f, n, points = 100):\n",
    "    # Discretize the Sections:\n",
    "    y_visc = list(np.linspace(0.0, 5*n/v_f, points))\n",
    "    t_buff = list(np.linspace(0.0, 1.0, points))\n",
    "    y_buff_cub = list(np.linspace(5*n/v_f, 30*n/v_f, points))\n",
    "    y_log = list(np.geomspace(30*n/v_f, d, points))\n",
    "    \n",
    "    # Calculate the profile\n",
    "    u_visc = []\n",
    "    u_buff_cub = []\n",
    "    u_buff_bez = []\n",
    "    y_buff_bez = []\n",
    "    u_log = []\n",
    "    for i in range(0, len(y_visc)):\n",
    "        # Viscous Sublayer\n",
    "        u_visc.append(u_v.subs({y: y_visc[i], ut: v_f, nu: n}))\n",
    "        \n",
    "        # Buffer Layer\n",
    "        # Convert to Dimensionless Wall Parameter\n",
    "        up_b = Bz.subs({\n",
    "            yp1: 5,\n",
    "            yp2: 30,\n",
    "            C: 5.0,\n",
    "            k: 0.41,\n",
    "            t: t_buff[i]\n",
    "        }).evalf()\n",
    "        u_buff_bez.append(float(up_b[1, 0])*v_f)\n",
    "        y_buff_bez.append(float(up_b[0, 0])*n/v_f)\n",
    "        u_buff_cub.append(v_f*float(u_b.subs(yp, y_buff_cub[i]*v_f/n)))\n",
    "        \n",
    "        # Log Law Layer\n",
    "        u_log.append(v_f*float(u_l.subs({y: y_log[i]*v_f/n, k: 0.41})))       \n",
    "    \n",
    "    # Total Velocity Profile\n",
    "    y_tot = y_visc + y_buff_bez + y_log\n",
    "    u_tot = u_visc + u_buff_bez + u_log\n",
    "    \n",
    "    # Plot\n",
    "    plt.plot([i*v_f/n for i in y_visc], [i*v_f for i in u_visc], label='Viscous Sublayer')\n",
    "    plt.plot([i*v_f/n for i in y_buff_bez], [i*v_f for i in u_buff_bez], label='Cubic Buffer Layer')\n",
    "    plt.plot([i*v_f/n for i in y_buff_cub], [i*v_f for i in u_buff_cub], label='Bezier Buffer Layer')\n",
    "    plt.plot([i*v_f/n for i in y_log[:30]], [i*v_f for i in u_log[:30]], label='Log-Law Layer')\n",
    "    plt.xscale('log')\n",
    "    plt.xlabel(r'$y^+$')\n",
    "    plt.ylabel(r'$u^+$')\n",
    "    plt.legend()"
   ]
  },
  {
   "cell_type": "code",
   "execution_count": 311,
   "metadata": {},
   "outputs": [
    {
     "data": {
      "image/png": "[encoded data removed]",
      "text/plain": [
       "<Figure size 640x480 with 1 Axes>"
      ]
     },
     "metadata": {},
     "output_type": "display_data"
    }
   ],
   "source": [
    "ut_test = 0.18439116103836928\n",
    "nu_test = 1.0034e-6\n",
    "\n",
    "turb_bl(0.0105, ut_test, nu_test)"
   ]
  },
  {
   "cell_type": "code",
   "execution_count": 113,
   "metadata": {},
   "outputs": [],
   "source": []
  }
 ],
 "metadata": {
  "kernelspec": {
   "display_name": "AE447Lab4",
   "language": "python",
   "name": "ae447lab4"
  },
  "language_info": {
   "codemirror_mode": {
    "name": "ipython",
    "version": 3
   },
   "file_extension": ".py",
   "mimetype": "text/x-python",
   "name": "python",
   "nbconvert_exporter": "python",
   "pygments_lexer": "ipython3",
   "version": "3.10.6"
  }
 },
 "nbformat": 4,
 "nbformat_minor": 4
}
